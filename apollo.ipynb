{
 "cells": [
  {
   "cell_type": "code",
   "execution_count": 20,
   "metadata": {},
   "outputs": [],
   "source": [
    "import pandas as pd\n",
    "import re"
   ]
  },
  {
   "cell_type": "markdown",
   "metadata": {},
   "source": [
    "### MUDE O ATALHO DO ARQUIVO AQUI"
   ]
  },
  {
   "cell_type": "code",
   "execution_count": 21,
   "metadata": {},
   "outputs": [],
   "source": [
    "#atalho do seu arquivo\n",
    "ATALHO = r'C:\\Users\\gabri\\Downloads\\apollo-contacts-export.csv'"
   ]
  },
  {
   "cell_type": "code",
   "execution_count": 22,
   "metadata": {},
   "outputs": [],
   "source": [
    "df = pd.read_csv(ATALHO)"
   ]
  },
  {
   "cell_type": "code",
   "execution_count": 23,
   "metadata": {},
   "outputs": [],
   "source": [
    "# se tiver esses nomes em qualquer parte do nome do cargo, substitui tudo pelo da direita\n",
    "job_title_replacements = [\n",
    "    ('ceo', 'CEO'),\n",
    "    ('chief executive officer', 'CEO'),\n",
    "    ('coo', 'COO'),\n",
    "    ('chief operating officer', 'COO'),\n",
    "    ('cfo', 'CFO'),\n",
    "    ('chief financial officer', 'CFO'),\n",
    "    ('cto', 'CTO'),\n",
    "    ('chief technology officer', 'CTO'),\n",
    "    ('cmo', 'CMO'),\n",
    "    ('chief marketing officer', 'CMO'), \n",
    "    ('cio', 'CIO'),    \n",
    "    ('chief information officer', 'CIO'),\n",
    "    ('cdo', 'CDO'),\n",
    "    ('chief data officer', 'CDO'),\n",
    "    ('cpo', 'CPO'),\n",
    "    ('chief product officer', 'CPO'),\n",
    "    ('cco', 'CCO'),\n",
    "    ('chief compliance officer', 'CCO'),\n",
    "    ('chief', 'Outro C-Level'),\n",
    "    ('Presidente', 'Presidente/Vice Presidente'),\n",
    "    ('vice-presidente', 'Presidente/Vice Presidente'),\n",
    "    ('vice presidente', 'Presidente/Vice Presidente'),\n",
    "    ('president', 'Presidente/Vice Presidente'),\n",
    "    ('vp', 'Presidente/Vice Presidente'),\n",
    "    ('vice-president', 'Presidente/Vice Presidente'),\n",
    "    ('vice president', 'Presidente/Vice Presidente'),\n",
    "    ('Founder', 'Founder/Co-Founder'),\n",
    "    ('fundador', 'Founder/Co-Founder'),\n",
    "    ('co-founder', 'Founder/Co-Founder'),\n",
    "    ('cofounder', 'Founder/Co-Founder'),\n",
    "    ('cofundador', 'Founder/Co-Founder'),\n",
    "    ('diretor de operações', 'Diretor de Operações'),\n",
    "    ('director of operations', 'Diretor de Operações'),\n",
    "    ('operations director', 'Diretor de Operações'),\n",
    "    ('diretor financeiro', 'Diretor Financeiro'),\n",
    "    ('financial director', 'Diretor Financeiro'),\n",
    "    ('finance director', 'Diretor Financeiro'),\n",
    "    ('diretor de tecnologia', 'Diretor de Tecnologia'),\n",
    "    ('director of technology', 'Diretor de Tecnologia'),\n",
    "    ('technology director', 'Diretor de Tecnologia'),\n",
    "    ('diretor de marketing', 'Diretor de Marketing'),\n",
    "    ('marketing director', 'Diretor de Marketing'),\n",
    "    ('director of marketing', 'Diretor de Marketing'),\n",
    "    ('diretor de logística/supply chain', 'Diretor de Logística/Supply Chain'),\n",
    "    ('logistics director', 'Diretor de Logística/Supply Chain'),\n",
    "    ('supply chain director', 'Diretor de Logística/Supply Chain'),\n",
    "    ('director of logistics/supply chain', 'Diretor de Logística/Supply Chain'),\n",
    "    ('diretor comercial', 'Diretor Comercial'),\n",
    "    ('commercial director', 'Diretor Comercial'),\n",
    "    ('director of commercial', 'Diretor Comercial'),\n",
    "    ('diretor', 'Diretor'),\n",
    "    ('diretora', 'Diretor'),\n",
    "    ('director', 'Diretor'), \n",
    "    ('head of business', 'Head of Business'),\n",
    "    ('head de business', 'Head of Business'),\n",
    "    ('business head', 'Head of Business'),\n",
    "    ('head de operações', 'Head de Operações'),\n",
    "    ('head of operations', 'Head de Operações'),\n",
    "    ('operations head', 'Head de Operações'),\n",
    "    ('head of growth', 'Head of Growth'),\n",
    "    ('head de crescimento', 'Head of Growth'),\n",
    "    ('growth head', 'Head of Growth'),\n",
    "    ('head of technology', 'Head de Tecnologia'),\n",
    "    ('head de tecnologia', 'Head de Tecnologia'),\n",
    "    ('technology head', 'Head de Tecnologia'),\n",
    "    ('head of data', 'Head of Data'),\n",
    "    ('head de dados', 'Head of Data'),\n",
    "    ('data head', 'Head of Data'),\n",
    "    ('head of logistics/supply chain', 'Head of Logistics/Supply Chain'),\n",
    "    ('head de logística/cadeia de suprimentos', 'Head of Logistics/Supply Chain'),\n",
    "    ('logistics head', 'Head of Logistics/Supply Chain'),\n",
    "    ('supply chain head', 'Head of Logistics/Supply Chain'),\n",
    "    ('head of marketing', 'Head of Marketing'),\n",
    "    ('head de marketing', 'Head of Marketing'),\n",
    "    ('marketing head', 'Head of Marketing'),\n",
    "    ('head of finance', 'Head of Finance'),\n",
    "    ('head de finanças', 'Head of Finance'),\n",
    "    ('finance head', 'Head of Finance'),\n",
    "    ('head', 'Head'),\n",
    "    ('gerente de analytics', 'Gerente de Analytics'),\n",
    "    ('analytics manager', 'Gerente de Analytics'),\n",
    "    ('manager of analytics', 'Gerente de Analytics'),\n",
    "    ('gerente de operações', 'Gerente de Operações'),\n",
    "    ('operations manager', 'Gerente de Operações'),\n",
    "    ('manager of operations', 'Gerente de Operações'),\n",
    "    ('gerente de logística/supply chain', 'Gerente de Logística/Supply Chain'),\n",
    "    ('logistics manager', 'Gerente de Logística/Supply Chain'),\n",
    "    ('supply chain manager', 'Gerente de Logística/Supply Chain'),\n",
    "    ('manager of logistics/supply chain', 'Gerente de Logística/Supply Chain'),\n",
    "    ('gerente de tecnologia', 'Gerente de Tecnologia'),\n",
    "    ('technology manager', 'Gerente de Tecnologia'),\n",
    "    ('manager of technology', 'Gerente de Tecnologia'),\n",
    "    ('manager', 'Gerente'), \n",
    "    ('gerente', 'Gerente'),\n",
    "    ('Supervisor', 'Outros'),\n",
    "    ('Partner', 'Outros'),\n",
    "    ('Executivo', 'Outros'),\n",
    "    ('Executiva', 'Outros'),\n",
    "    ('Secretária', 'Outros'),\n",
    "    ('Secretário', 'Outros'),\n",
    "    ('Leader', 'Outros'),\n",
    "    ('Líder', 'Outros'),\n",
    "    ('Lider', 'Outros'),\n",
    "    ('Controller', 'Outros'),\n",
    "    ('Controlador', 'Outros'),\n",
    "    ('Estagiario', 'Outros'),\n",
    "    ('Estagiaria', 'Outros'),\n",
    "    ('Aprendiz', 'Outros'),\n",
    "    ('Analista', 'Outros')\n",
    "]"
   ]
  },
  {
   "cell_type": "markdown",
   "metadata": {},
   "source": [
    "##### Aqui pode deixar return 'Outros' caso queira que fique 'Outros' quando nao achar ou return Title para devolver o original"
   ]
  },
  {
   "cell_type": "code",
   "execution_count": 24,
   "metadata": {},
   "outputs": [],
   "source": [
    "def replace_job_titles(title):\n",
    "    if pd.isna(title):\n",
    "        return title\n",
    "    for pattern, replacement in job_title_replacements:\n",
    "        if re.search(pattern, title, re.IGNORECASE):\n",
    "            return replacement\n",
    "    #se nao achar nenhum correspondente, retorna o titulo original (return title)\n",
    "    #eh possivel usar return 'Outros' caso queira colocar 'Outros' quando nao achar\n",
    "    return title"
   ]
  },
  {
   "cell_type": "code",
   "execution_count": 25,
   "metadata": {},
   "outputs": [],
   "source": [
    "#remove os sem email\n",
    "df.dropna(subset=['Email'], inplace=True)"
   ]
  },
  {
   "cell_type": "code",
   "execution_count": 26,
   "metadata": {},
   "outputs": [],
   "source": [
    "#troca os nomes dos cargos\n",
    "df['Title'] = df['Title'].apply(replace_job_titles)"
   ]
  },
  {
   "cell_type": "code",
   "execution_count": 27,
   "metadata": {},
   "outputs": [],
   "source": [
    "#junta os nomes\n",
    "df['Name'] = df['First Name'] + ' ' + df['Last Name']\n",
    "df.drop(['First Name', 'Last Name'], axis=1, inplace=True)"
   ]
  },
  {
   "cell_type": "code",
   "execution_count": 28,
   "metadata": {},
   "outputs": [],
   "source": [
    "#coloca email como prospeccao\n",
    "df['Prospeccao'] = 'E-mail'"
   ]
  },
  {
   "cell_type": "code",
   "execution_count": 29,
   "metadata": {},
   "outputs": [],
   "source": [
    "#adiciona se contato respondeu\n",
    "df['Status'] = df['Replied'].apply(lambda x: \"Contato Respondido\" if x == True else \"Não Respondeu\")"
   ]
  },
  {
   "cell_type": "markdown",
   "metadata": {},
   "source": [
    "### MUDE SEU ID PJ"
   ]
  },
  {
   "cell_type": "code",
   "execution_count": 30,
   "metadata": {},
   "outputs": [],
   "source": [
    "#adiciona nome do hunter\n",
    "hunter = 'gabriel.agra'\n",
    "df['Hunter'] = hunter"
   ]
  },
  {
   "cell_type": "code",
   "execution_count": 31,
   "metadata": {},
   "outputs": [],
   "source": [
    "#adiciona portfolio\n",
    "portfolio = 'Analytics'\n",
    "df['Portfolio'] = portfolio"
   ]
  },
  {
   "cell_type": "code",
   "execution_count": 32,
   "metadata": {},
   "outputs": [],
   "source": [
    "#ordena as colunas\n",
    "columns_order = ['Company', 'Industry', '# Employees', 'Name', 'Title', 'Email', 'Prospeccao', 'Status', 'Hunter', 'Portfolio']\n",
    "df = df[columns_order]"
   ]
  },
  {
   "cell_type": "code",
   "execution_count": 33,
   "metadata": {},
   "outputs": [],
   "source": [
    "df.to_csv(ATALHO, index=False)"
   ]
  },
  {
   "cell_type": "code",
   "execution_count": 34,
   "metadata": {},
   "outputs": [],
   "source": [
    "ATALHO = ATALHO.replace('.csv', '.xlsx')"
   ]
  },
  {
   "cell_type": "code",
   "execution_count": 35,
   "metadata": {},
   "outputs": [],
   "source": [
    "df.to_excel(ATALHO)"
   ]
  }
 ],
 "metadata": {
  "kernelspec": {
   "display_name": "Python 3",
   "language": "python",
   "name": "python3"
  },
  "language_info": {
   "codemirror_mode": {
    "name": "ipython",
    "version": 3
   },
   "file_extension": ".py",
   "mimetype": "text/x-python",
   "name": "python",
   "nbconvert_exporter": "python",
   "pygments_lexer": "ipython3",
   "version": "3.12.3"
  }
 },
 "nbformat": 4,
 "nbformat_minor": 2
}
