{
  "cells": [
    {
      "cell_type": "code",
      "execution_count": null,
      "metadata": {
        "id": "xIBEHp3kd15y"
      },
      "outputs": [],
      "source": [
        "import pandas as pd\n",
        "import numpy as np\n",
        "import os\n",
        "from datetime import datetime"
      ]
    },
    {
      "cell_type": "code",
      "execution_count": null,
      "metadata": {
        "id": "xof1maRFd15z"
      },
      "outputs": [],
      "source": [
        "tabela_pcp = pd.read('')"
      ]
    },
    {
      "cell_type": "code",
      "execution_count": null,
      "metadata": {
        "id": "fzbKUZEDhmgc"
      },
      "outputs": [],
      "source": [
        "# Lista de cargos a serem removidos\n",
        "cargos_excluidos = ['Líder de Outbound', 'Coordenador de Negócios', 'Coordenador de Inovação Comercial', 'Gerente Comercial',\n",
        "                    'Coordenador de Projetos', 'Coordenador de Inovação de Projetos', 'Gerente de Projetos']\n",
        "\n",
        "# Filtrando a tabela para remover os cargos indesejados\n",
        "df_filtrado = df[~df['Cargo no núcleo'].isin(cargos_excluidos)]\n"
      ]
    },
    {
      "cell_type": "code",
      "source": [
        "# Função para calcular a Disponibilidade (em horas)\n",
        "def calcular_disponibilidade(row, inicio_novo_projeto):\n",
        "    horas_disponiveis = 30  # Começamos com 30h disponíveis\n",
        "\n",
        "    # Subtrai horas conforme aprendizados e assessorias\n",
        "    horas_disponiveis -= row.get('N° Aprendizagens', 0) * 5\n",
        "    horas_disponiveis -= row.get('N° Assessoria', 0) * 10\n",
        "\n",
        "    # Subtrai horas conforme projetos ativos (cada projeto reduz 10h)\n",
        "    for i in range(1, 5):  # Projetos 1 a 4\n",
        "        if pd.notnull(row.get(f'Fim previsto do Projeto {i}', None)):\n",
        "            horas_disponiveis -= 10\n",
        "\n",
        "    # Subtrai horas conforme projetos internos ativos (cada um reduz 5h)\n",
        "    for i in range(1, 5):  # Projetos Internos 1 a 4\n",
        "        if pd.notnull(row.get(f'Fim do Projeto Interno {i}', None)):\n",
        "            horas_disponiveis -= 5\n",
        "\n",
        "    # Ajusta conforme cargo no núcleo\n",
        "    cargo = str(row.get('Cargo no núcleo', '')).strip().upper()\n",
        "    if cargo in ['SDR', 'HUNTER']:\n",
        "        horas_disponiveis -= 10\n",
        "    elif cargo == 'ANALISTA SÊNIOR':\n",
        "        horas_disponiveis -= 5\n",
        "\n",
        "    # Ajusta conforme proximidade da data de fim de um projeto\n",
        "    for i in range(1, 5):  # Projetos 1 a 4\n",
        "        fim_estimado = row.get(f'Fim estimado do Projeto {i}', None)\n",
        "        fim_previsto = row.get(f'Fim previsto do Projeto {i}', None)\n",
        "\n",
        "        fim_projeto = fim_estimado if pd.notnull(fim_estimado) else fim_previsto\n",
        "\n",
        "        if pd.notnull(fim_projeto):\n",
        "            weeks_left = (fim_projeto - inicio_novo_projeto).days / 7\n",
        "            if 1 <= weeks_left <= 2:\n",
        "                horas_disponiveis += 6\n",
        "            elif weeks_left < 1:\n",
        "                horas_disponiveis += 10\n",
        "\n",
        "    return max(0, horas_disponiveis)  # Não deixa disponibilidade negativa\n",
        "\n",
        "# Função para calcular a Afinidade (nota de 0 a 10)\n",
        "def calcular_afinidade(row):\n",
        "    # Satisfação esperada = Satisfação Média com o Portfólio * 2\n",
        "    satisfacao_portfolio = row.get('Satisfação Média com o Portfólio', 0) * 2\n",
        "\n",
        "    # Capacidade esperada = Validação média do Projeto * 2\n",
        "    capacidade = row.get('Validação média do Projeto', 0) * 2\n",
        "\n",
        "    # Saúde mental = Média entre percepção da carga e saúde mental na PJ\n",
        "    sentimento_carga = row.get('Como se sente em relação à carga', '').strip().upper()\n",
        "\n",
        "    sentimento_map = {'SUBALOCADO': 10, 'ESTOU SATISFEITO': 5, 'SUPERALOCADO': 1}\n",
        "    sentimento_nota = sentimento_map.get(sentimento_carga, 5)  # Se não estiver mapeado, assume 5\n",
        "\n",
        "    saude_mental = row.get('Saúde mental na PJ', 5)\n",
        "    saude_final = (sentimento_nota + saude_mental) / 2\n",
        "\n",
        "    # Nota final de afinidade é a média dos três critérios\n",
        "    afinidade = (satisfacao_portfolio + capacidade + saude_final) / 3\n",
        "    return min(10, max(0, afinidade))  # Mantém dentro do range 0-10\n",
        "\n",
        "# Leitura dos dados (ajuste o caminho conforme necessário)\n",
        "df = pd.read_excel(r\"Ambiente-Modelo\\Include\\PCP Auto.xlsx\", sheet_name=\"Dados\")\n",
        "\n",
        "# Converte datas para datetime\n",
        "date_cols = [f'Fim previsto do Projeto {i}' for i in range(1, 5)] + \\\n",
        "            [f'Fim estimado do Projeto {i}' for i in range(1, 5)] + \\\n",
        "            [f'Fim do Projeto Interno {i}' for i in range(1, 5)]\n",
        "for col in date_cols:\n",
        "    df[col] = pd.to_datetime(df[col], errors='coerce')\n",
        "\n",
        "# Define a data de início do novo projeto (entrada do sistema)\n",
        "inicio_novo_projeto = pd.Timestamp(\"2025-04-01\")  # Exemplo, ajuste conforme necessário\n",
        "\n",
        "# Calcula disponibilidade e afinidade\n",
        "df['Disponibilidade'] = df.apply(lambda row: calcular_disponibilidade(row, inicio_novo_projeto), axis=1)\n",
        "df['Afinidade'] = df.apply(calcular_afinidade, axis=1)\n",
        "\n",
        "# Ordena os membros pela Disponibilidade e Afinidade (ambas igualmente importantes)\n",
        "df_ordenado = df.sort_values(by=['Disponibilidade', 'Afinidade'], ascending=[False, False])\n",
        "\n",
        "# Exibe as colunas principais\n",
        "print(\"Membros sugeridos (ordenados pela pontuação):\")\n",
        "print(df_ordenado[['Membro', 'Disponibilidade', 'Afinidade']])"
      ],
      "metadata": {
        "id": "zz3IoJzSkr2Z"
      },
      "execution_count": null,
      "outputs": []
    }
  ],
  "metadata": {
    "kernelspec": {
      "display_name": "Python 3",
      "language": "python",
      "name": "python3"
    },
    "language_info": {
      "codemirror_mode": {
        "name": "ipython",
        "version": 3
      },
      "file_extension": ".py",
      "mimetype": "text/x-python",
      "name": "python",
      "nbconvert_exporter": "python",
      "pygments_lexer": "ipython3",
      "version": "3.12.6"
    },
    "colab": {
      "provenance": []
    }
  },
  "nbformat": 4,
  "nbformat_minor": 0
}