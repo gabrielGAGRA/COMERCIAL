{
 "cells": [
  {
   "cell_type": "code",
   "execution_count": 8,
   "id": "6a52b911",
   "metadata": {},
   "outputs": [
    {
     "name": "stdout",
     "output_type": "stream",
     "text": [
      "MAPE agregado ponderado pelo volume: 3.66%\n",
      "Erro médio agregado (usando MAPE agregado): R$ 6,853,278.66\n",
      "Erro Médio Absoluto (MAE simples): R$ 6,853,278.66\n",
      "Erro Quadrático Médio (RMSE): R$ 7,995,877.95\n"
     ]
    }
   ],
   "source": [
    "import pandas as pd\n",
    "\n",
    "# Dados fornecidos\n",
    "data = [\n",
    "    {\"Descrição\": \"Teste MAPE 2.76%\", \"MAPE\": 2.76, \"Erro (R$)\": 6346974.63},\n",
    "    {\"Descrição\": \"Teste MAPE 5.37%\", \"MAPE\": 5.37, \"Erro (R$)\": 13678657.39},\n",
    "    {\"Descrição\": \"Validação MAPE 4.93%\", \"MAPE\": 4.93, \"Erro (R$)\": 2966055.92},\n",
    "    {\"Descrição\": \"Teste MAPE 2.17%\", \"MAPE\": 2.17, \"Erro (R$)\": 4421426.70},\n",
    "]\n",
    "\n",
    "df = pd.DataFrame(data)\n",
    "\n",
    "# Cálculo do volume implícito em cada cenário: Volume = Erro / (MAPE/100)\n",
    "df[\"Volume (R$)\"] = df[\"Erro (R$)\"] / (df[\"MAPE\"] / 100)\n",
    "\n",
    "# Pesos proporcionais ao volume\n",
    "df[\"Peso\"] = df[\"Volume (R$)\"] / df[\"Volume (R$)\"].sum()\n",
    "\n",
    "# MAPE agregado ponderado pelo volume\n",
    "weighted_mape = (df[\"Peso\"] * df[\"MAPE\"]).sum()\n",
    "\n",
    "# Volume médio\n",
    "avg_volume = df[\"Volume (R$)\"].mean()\n",
    "\n",
    "# Erro médio agregado (MAPE agregado * volume médio)\n",
    "agg_error = weighted_mape / 100 * avg_volume\n",
    "\n",
    "# Erro médio simples e RMSE\n",
    "simple_mae = df[\"Erro (R$)\"].mean()\n",
    "rmse = (df[\"Erro (R$)\"] ** 2).mean() ** 0.5\n",
    "\n",
    "print(f\"MAPE agregado ponderado pelo volume: {weighted_mape:.2f}%\")\n",
    "print(f\"Erro médio agregado (usando MAPE agregado): R$ {agg_error:,.2f}\")\n",
    "print(f\"Erro Médio Absoluto (MAE simples): R$ {simple_mae:,.2f}\")\n",
    "print(f\"Erro Quadrático Médio (RMSE): R$ {rmse:,.2f}\")"
   ]
  },
  {
   "cell_type": "code",
   "execution_count": 1,
   "id": "43e77113",
   "metadata": {},
   "outputs": [
    {
     "name": "stdout",
     "output_type": "stream",
     "text": [
      "229962848.91304347\n",
      "254723601.3035382\n",
      "60163406.085192695\n",
      "203752382.4884793\n"
     ]
    }
   ],
   "source": [
    "data = [\n",
    "    {\"Descrição\": \"Teste MAPE 2.76%\", \"MAPE\": 2.76, \"Erro (R$)\": 6346974.63},\n",
    "    {\"Descrição\": \"Teste MAPE 5.37%\", \"MAPE\": 5.37, \"Erro (R$)\": 13678657.39},\n",
    "    {\"Descrição\": \"Validação MAPE 4.93%\", \"MAPE\": 4.93, \"Erro (R$)\": 2966055.92},\n",
    "    {\"Descrição\": \"Teste MAPE 2.17%\", \"MAPE\": 2.17, \"Erro (R$)\": 4421426.70},\n",
    "]\n",
    "\n",
    "print(100 / 2.76 * 6346974.63)\n",
    "print(100 / 5.37 * 13678657.39)\n",
    "print(100 / 4.93 * 2966055.92)\n",
    "print(100 / 2.17 * 4421426.70)"
   ]
  },
  {
   "cell_type": "code",
   "execution_count": 10,
   "id": "4684cad0",
   "metadata": {},
   "outputs": [
    {
     "name": "stdout",
     "output_type": "stream",
     "text": [
      "Volume total em reais\n",
      "748602238.7902536\n"
     ]
    }
   ],
   "source": [
    "print(\"Volume total em reais\")\n",
    "print(229962848.91304347+\n",
    "254723601.3035382+\n",
    "60163406.085192695+\n",
    "203752382.4884793)"
   ]
  },
  {
   "cell_type": "code",
   "execution_count": null,
   "id": "739a3773",
   "metadata": {},
   "outputs": [],
   "source": []
  },
  {
   "cell_type": "code",
   "execution_count": 2,
   "id": "7b225a75",
   "metadata": {},
   "outputs": [
    {
     "name": "stdout",
     "output_type": "stream",
     "text": [
      "12277076.716160161\n"
     ]
    }
   ],
   "source": [
    "print(748602238.7902536 * 0.0164)"
   ]
  },
  {
   "cell_type": "code",
   "execution_count": 11,
   "id": "1aff2b5c",
   "metadata": {},
   "outputs": [
    {
     "name": "stdout",
     "output_type": "stream",
     "text": [
      "Erro total em reais\n",
      "27413114.639999997\n"
     ]
    }
   ],
   "source": [
    "print(\"Erro total em reais\")\n",
    "print(6346974.63 + 13678657.39 + 2966055.92 + 4421426.70)"
   ]
  },
  {
   "cell_type": "code",
   "execution_count": 8,
   "id": "a4a5192f",
   "metadata": {},
   "outputs": [
    {
     "name": "stdout",
     "output_type": "stream",
     "text": [
      "3.6619065799615798\n"
     ]
    }
   ],
   "source": [
    "print(27413114.639999997 / 748602238.7902536 * 100)"
   ]
  },
  {
   "cell_type": "code",
   "execution_count": 6,
   "id": "5636d392",
   "metadata": {},
   "outputs": [
    {
     "name": "stdout",
     "output_type": "stream",
     "text": [
      "4.201973883683435\n"
     ]
    }
   ],
   "source": [
    "print(\n",
    "    (2.76 * 6346974.63 + 5.37 * 13678657.39 + 4.93 * 2966055.92 + 2.17 * 4421426.70)\n",
    "    / 27413114.639999997\n",
    ")"
   ]
  }
 ],
 "metadata": {
  "kernelspec": {
   "display_name": ".venv",
   "language": "python",
   "name": "python3"
  },
  "language_info": {
   "codemirror_mode": {
    "name": "ipython",
    "version": 3
   },
   "file_extension": ".py",
   "mimetype": "text/x-python",
   "name": "python",
   "nbconvert_exporter": "python",
   "pygments_lexer": "ipython3",
   "version": "3.12.6"
  }
 },
 "nbformat": 4,
 "nbformat_minor": 5
}
