{
 "cells": [
  {
   "cell_type": "code",
   "execution_count": 9,
   "metadata": {},
   "outputs": [],
   "source": [
    "import pandas as pd\n",
    "import re"
   ]
  },
  {
   "cell_type": "markdown",
   "metadata": {},
   "source": [
    "### MUDE O ATALHO DO CSV AQUI"
   ]
  },
  {
   "cell_type": "code",
   "execution_count": 10,
   "metadata": {},
   "outputs": [],
   "source": [
    "#muda o atalho no que ta entre aspas\n",
    "atalho = r'C:\\Users\\gabri\\Documents\\PROJETOS\\PY\\PJ_Code\\Comercial\\PAC - Contatos NProd.csv'"
   ]
  },
  {
   "cell_type": "code",
   "execution_count": 11,
   "metadata": {},
   "outputs": [],
   "source": [
    "data = pd.read_csv(atalho, low_memory=False)"
   ]
  },
  {
   "cell_type": "code",
   "execution_count": 12,
   "metadata": {},
   "outputs": [],
   "source": [
    "def sanitize_input(input_string):\n",
    "    # Remove leading/trailing whitespace and non-printable characters\n",
    "    sanitized = re.sub(r'\\s+', ' ', input_string).strip()  # Replace multiple spaces with a single space and strip\n",
    "    sanitized = re.sub(r'[^\\w\\s]', '', sanitized)  # Remove anything that is not a word character or space\n",
    "    return sanitized"
   ]
  },
  {
   "cell_type": "code",
   "execution_count": 13,
   "metadata": {},
   "outputs": [],
   "source": [
    "nome = input('Nome: ')"
   ]
  },
  {
   "cell_type": "code",
   "execution_count": 14,
   "metadata": {},
   "outputs": [],
   "source": [
    "#ignore maiusculo e acentto\n",
    "data = data[pd.notna(data['Empresa']) & data['Empresa'].str.contains(nome, case=False, na=False)]"
   ]
  },
  {
   "cell_type": "markdown",
   "metadata": {},
   "source": [
    "#### Aqui pode mudar as colunas que deseja ver"
   ]
  },
  {
   "cell_type": "code",
   "execution_count": 15,
   "metadata": {},
   "outputs": [],
   "source": [
    "#colunas que voce quer ver\n",
    "data = data[['Semana', 'Cargo', 'STATUS']]"
   ]
  },
  {
   "cell_type": "code",
   "execution_count": 16,
   "metadata": {},
   "outputs": [
    {
     "name": "stdout",
     "output_type": "stream",
     "text": [
      "Banco Original:\n",
      "                                   Semana                                  Cargo        STATUS\n",
      "             Winx - Semana 2 (01/11/2021)             Executive finance director Não Respondeu\n",
      "             Winx - Semana 2 (01/11/2021)                    Head de emprestimos Não Respondeu\n",
      "             Winx - Semana 2 (01/11/2021)          Head of customer intelligence Não Respondeu\n",
      "         CAPIVAPO - Semana 3 (10/18/2021)                                    CEO Não Respondeu\n",
      "         CAPIVAPO - Semana 3 (10/18/2021)                                   Head Não Respondeu\n",
      "         CAPIVAPO - Semana 3 (10/18/2021)                                Diretor Não Respondeu\n",
      "        Cnidários - Semana 8 (05/23/2022)             Analista Jr. Controladoria Não Respondeu\n",
      "        Cnidários - Semana 8 (05/23/2022)                      Diretor comercial Não Respondeu\n",
      "        Cnidários - Semana 8 (05/23/2022) Diretor de Controladoria e Risco (CRO) Não Respondeu\n",
      "        Cnidários - Semana 8 (05/23/2022)    Membro do conselho de administração Não Respondeu\n",
      "ATcalipse - Semana 2 - Hacka (10/17/2022)                   Gerente de Operações Não Respondeu\n",
      "ATcalipse - Semana 2 - Hacka (10/17/2022)                                    CEO Não Respondeu\n",
      "ATcalipse - Semana 2 - Hacka (10/17/2022)                       Head of Business Não Respondeu\n",
      "ATcalipse - Semana 2 - Hacka (10/17/2022)                                    CEO Não Respondeu\n",
      "            Fênix - Semana 7 (02/13/2023)                                    CIO           NaN\n",
      "            Fênix - Semana 7 (02/13/2023)                                    CEO           NaN\n",
      "            Fênix - Semana 7 (02/13/2023)                                    CEO Não Respondeu\n",
      "            Fênix - Semana 7 (02/13/2023)                                    CTO Não Respondeu\n",
      "Piromania - Semana 9 - Hacka (05/29/2023)                                   Head Não Respondeu\n",
      "Piromania - Semana 9 - Hacka (05/29/2023)                                   Head Não Respondeu\n"
     ]
    }
   ],
   "source": [
    "if not data.empty:\n",
    "    print(f\"{nome}:\")\n",
    "    print(data.to_string(index=False))\n",
    "else:\n",
    "    print(f\"{nome} nao encontrado\")"
   ]
  }
 ],
 "metadata": {
  "kernelspec": {
   "display_name": "Python 3",
   "language": "python",
   "name": "python3"
  },
  "language_info": {
   "codemirror_mode": {
    "name": "ipython",
    "version": 3
   },
   "file_extension": ".py",
   "mimetype": "text/x-python",
   "name": "python",
   "nbconvert_exporter": "python",
   "pygments_lexer": "ipython3",
   "version": "3.12.3"
  }
 },
 "nbformat": 4,
 "nbformat_minor": 2
}
