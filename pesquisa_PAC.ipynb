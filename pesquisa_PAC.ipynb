{
 "cells": [
  {
   "cell_type": "code",
   "execution_count": 10,
   "metadata": {},
   "outputs": [],
   "source": [
    "import pandas as pd\n",
    "import re"
   ]
  },
  {
   "cell_type": "markdown",
   "metadata": {},
   "source": [
    "### MUDE O ATALHO DO CSV AQUI"
   ]
  },
  {
   "cell_type": "code",
   "execution_count": 11,
   "metadata": {},
   "outputs": [],
   "source": [
    "#muda o atalho no que ta entre aspas\n",
    "atalho = r'PAC - Contatos NProd.csv'"
   ]
  },
  {
   "cell_type": "markdown",
   "metadata": {},
   "source": [
    "#### Aqui pode mudar as colunas que deseja ver"
   ]
  },
  {
   "cell_type": "code",
   "execution_count": 12,
   "metadata": {},
   "outputs": [],
   "source": [
    "colunas = ['Semana', 'STATUS', 'Cargo', 'Portfólio', 'Hunter', 'Empresa']"
   ]
  },
  {
   "cell_type": "code",
   "execution_count": 13,
   "metadata": {},
   "outputs": [],
   "source": [
    "data = pd.read_csv(atalho, usecols=colunas, low_memory=False)"
   ]
  },
  {
   "cell_type": "code",
   "execution_count": 14,
   "metadata": {},
   "outputs": [],
   "source": [
    "def sanitize_input(input_string):\n",
    "    sanitized = re.sub(r'\\s+', ' ', input_string).strip()\n",
    "    sanitized = re.sub(r'[^\\w\\s]', '', sanitized)\n",
    "    return sanitized"
   ]
  },
  {
   "cell_type": "code",
   "execution_count": 15,
   "metadata": {},
   "outputs": [],
   "source": [
    "nome = input('Nome: ')"
   ]
  },
  {
   "cell_type": "code",
   "execution_count": 16,
   "metadata": {},
   "outputs": [],
   "source": [
    "#ignore maiusculo e acento\n",
    "data = data[pd.notna(data['Empresa']) & data['Empresa'].str.contains(nome, case=False, na=False)]"
   ]
  },
  {
   "cell_type": "code",
   "execution_count": 17,
   "metadata": {},
   "outputs": [],
   "source": [
    "data['Semana'] = data['Semana'].str.extract(r'\\((\\d{2}/\\d{2}/\\d{4})\\)')"
   ]
  },
  {
   "cell_type": "code",
   "execution_count": 18,
   "metadata": {},
   "outputs": [
    {
     "name": "stdout",
     "output_type": "stream",
     "text": [
      "coplacana:\n",
      "    Semana                     Empresa                Cargo          STATUS         Hunter            Portfólio\n",
      "07/03/2023 COPLACANA - Orgulho do Agro              Diretor   Não Respondeu   luis.cardoso Gestão por Processos\n",
      "07/03/2023 COPLACANA - Orgulho do Agro               Outros Reunião Marcada   luis.cardoso Gestão por Processos\n",
      "07/03/2023 COPLACANA - Orgulho do Agro              Diretor   Não Respondeu   luis.cardoso Gestão por Processos\n",
      "07/03/2023 COPLACANA - Orgulho do Agro Diretor de Operações   Não Respondeu   luis.cardoso Gestão por Processos\n",
      "07/03/2023 COPLACANA - Orgulho do Agro              Diretor   Não Respondeu   luis.cardoso Gestão por Processos\n",
      "11/13/2023 COPLACANA - Orgulho do Agro               Outros   Não Respondeu arthur.daisuke            Analytics\n",
      "11/13/2023 COPLACANA - Orgulho do Agro Diretor de Operações   Não Respondeu arthur.daisuke            Analytics\n",
      "11/13/2023 COPLACANA - Orgulho do Agro              Diretor   Não Respondeu arthur.daisuke            Analytics\n",
      "11/13/2023 COPLACANA - Orgulho do Agro              Diretor   Não Respondeu arthur.daisuke            Analytics\n",
      "11/13/2023 COPLACANA - Orgulho do Agro   Diretor Financeiro   Não Respondeu arthur.daisuke            Analytics\n"
     ]
    }
   ],
   "source": [
    "if not data.empty:\n",
    "    print(f\"{nome}:\")\n",
    "    print(data.to_string(index=False))\n",
    "else:\n",
    "    print(f\"{nome} nao encontrado\")"
   ]
  }
 ],
 "metadata": {
  "kernelspec": {
   "display_name": "Python 3",
   "language": "python",
   "name": "python3"
  },
  "language_info": {
   "codemirror_mode": {
    "name": "ipython",
    "version": 3
   },
   "file_extension": ".py",
   "mimetype": "text/x-python",
   "name": "python",
   "nbconvert_exporter": "python",
   "pygments_lexer": "ipython3",
   "version": "3.12.3"
  }
 },
 "nbformat": 4,
 "nbformat_minor": 2
}
