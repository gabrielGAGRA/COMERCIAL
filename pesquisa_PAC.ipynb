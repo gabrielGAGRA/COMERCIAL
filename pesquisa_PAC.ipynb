{
 "cells": [
  {
   "cell_type": "code",
   "execution_count": 47,
   "metadata": {},
   "outputs": [],
   "source": [
    "import pandas as pd\n",
    "import re"
   ]
  },
  {
   "cell_type": "markdown",
   "metadata": {},
   "source": [
    "### MUDE O ATALHO DO CSV AQUI"
   ]
  },
  {
   "cell_type": "code",
   "execution_count": 48,
   "metadata": {},
   "outputs": [],
   "source": [
    "#muda o atalho no que ta entre aspas\n",
    "atalho = r'PAC - Contatos NProd.csv'"
   ]
  },
  {
   "cell_type": "markdown",
   "metadata": {},
   "source": [
    "#### Aqui pode mudar as colunas que deseja ver"
   ]
  },
  {
   "cell_type": "code",
   "execution_count": 49,
   "metadata": {},
   "outputs": [],
   "source": [
    "colunas = ['Semana', 'STATUS', 'Cargo', 'Portfólio', 'Hunter', 'Empresa']"
   ]
  },
  {
   "cell_type": "code",
   "execution_count": 50,
   "metadata": {},
   "outputs": [],
   "source": [
    "data = pd.read_csv(atalho, usecols=colunas, low_memory=False)"
   ]
  },
  {
   "cell_type": "code",
   "execution_count": 51,
   "metadata": {},
   "outputs": [],
   "source": [
    "def sanitize_input(input_string):\n",
    "    sanitized = re.sub(r'\\s+', ' ', input_string).strip()\n",
    "    sanitized = re.sub(r'[^\\w\\s]', '', sanitized)\n",
    "    return sanitized"
   ]
  },
  {
   "cell_type": "code",
   "execution_count": 52,
   "metadata": {},
   "outputs": [],
   "source": [
    "data['Semana'] = data['Semana'].str.extract(r'\\((\\d{2}/\\d{2}/\\d{4})\\)')\n",
    "\n",
    "data['Semana_mod'] = pd.to_datetime(data['Semana'], format='mixed')"
   ]
  },
  {
   "cell_type": "code",
   "execution_count": 53,
   "metadata": {},
   "outputs": [],
   "source": [
    "from datetime import datetime, timedelta\n",
    "data_hoje = datetime.now()\n",
    "data_maxima = data_hoje - timedelta(days=90)"
   ]
  },
  {
   "cell_type": "code",
   "execution_count": 56,
   "metadata": {},
   "outputs": [
    {
     "name": "stdout",
     "output_type": "stream",
     "text": [
      "mosaic ja tem PROJETO\n",
      "mosaic:\n",
      "    Semana               Empresa                             Cargo              STATUS            Hunter            Portfólio\n",
      "02/15/2021               Mosaico                               CEO       Não Respondeu     thiago.coelho                  NaN\n",
      "02/15/2021               Mosaico                               CFO       Não Respondeu     thiago.coelho                  NaN\n",
      "02/15/2021               Mosaico                               CTO       Não Respondeu     thiago.coelho                  NaN\n",
      "03/15/2021         Mosaic Brasil                               CFO       Não Respondeu     thiago.coelho                  NaN\n",
      "03/15/2021         Mosaic Brasil                     Outro C-Level       Não Respondeu     thiago.coelho                  NaN\n",
      "03/15/2021         Mosaic Brasil                 HR Vice President       Não Respondeu     thiago.coelho                  NaN\n",
      "03/15/2021         Mosaic Brasil Diretor de Logística/Supply Chain       Não Respondeu     thiago.coelho                  NaN\n",
      "03/15/2021         Mosaic Brasil                Sales Director B2C       Não Respondeu     thiago.coelho                  NaN\n",
      "10/25/2021               Mosaico                           Gerente       Não Respondeu      luan.ribeiro                  NaN\n",
      "10/25/2021               Mosaico                            Outros       Não Respondeu      luan.ribeiro                  NaN\n",
      "10/25/2021               Mosaico                               CTO       Não Respondeu      luan.ribeiro                  NaN\n",
      "10/25/2021               Mosaico                               CFO       Não Respondeu      luan.ribeiro                  NaN\n",
      "10/25/2021               Mosaico                               CEO       Não Respondeu      luan.ribeiro                  NaN\n",
      "28/02/2022         Mosaic Brasil        Presidente/Vice Presidente       Não Respondeu      luan.ribeiro       Analytics + GP\n",
      "28/02/2022         Mosaic Brasil                           Diretor       Não Respondeu      luan.ribeiro       Analytics + GP\n",
      "28/02/2022         Mosaic Brasil        Presidente/Vice Presidente       Não Respondeu      luan.ribeiro       Analytics + GP\n",
      "28/02/2022         Mosaic Brasil                           Diretor       Não Respondeu      luan.ribeiro       Analytics + GP\n",
      "28/02/2022         Mosaic Brasil        Presidente/Vice Presidente       Não Respondeu      luan.ribeiro       Analytics + GP\n",
      "28/02/2022         Mosaic Brasil             Gerente de Tecnologia       Não Respondeu      luan.ribeiro       Analytics + GP\n",
      "03/21/2022               Mosaico                               CTO       Não Respondeu       lucas.dorna       Analytics + GP\n",
      "03/21/2022               Mosaico                               CFO       Não Respondeu       lucas.dorna       Analytics + GP\n",
      "03/21/2022               Mosaico                               CEO       Não Respondeu       lucas.dorna       Analytics + GP\n",
      "10/17/2022               Mosaico                           Diretor       Não Respondeu       tiago.salum       Analytics + GP\n",
      "10/17/2022               Mosaico                      Head of Data       Não Respondeu       tiago.salum       Analytics + GP\n",
      "10/17/2022               Mosaico                            Outros       Não Respondeu       tiago.salum       Analytics + GP\n",
      "10/17/2022               Mosaico                               CEO       Não Respondeu       tiago.salum       Analytics + GP\n",
      "10/17/2022               Mosaico                Founder/Co-founder       Não Respondeu       tiago.salum       Analytics + GP\n",
      "05/29/2023               Mosaico                           Diretor       Não Respondeu matheus.rodrigues            Analytics\n",
      "05/29/2023               Mosaico                Diretor Financeiro       Não Respondeu matheus.rodrigues            Analytics\n",
      "05/29/2023               Mosaico                Founder/Co-founder       Não Respondeu matheus.rodrigues            Analytics\n",
      "05/29/2023               Mosaico                               CEO       Não Respondeu matheus.rodrigues            Analytics\n",
      "05/29/2023               Mosaico                 Head de Operações       Não Respondeu matheus.rodrigues            Analytics\n",
      "05/29/2023               Mosaico              Diretor de Operações       Não Respondeu matheus.rodrigues            Analytics\n",
      "05/29/2023               Mosaico                           Diretor       Não Respondeu matheus.rodrigues            Analytics\n",
      "05/29/2023               Mosaico                           Diretor     Reunião Marcada matheus.rodrigues            Analytics\n",
      "05/29/2023               Mosaico              Diretor de Marketing       Não Respondeu matheus.rodrigues            Analytics\n",
      "10/02/2023  Mosaic Fertilizantes        Presidente/Vice Presidente       Não Respondeu    clara.milagres Gestão por Processos\n",
      "10/02/2023  Mosaic Fertilizantes        Presidente/Vice Presidente Contato Encaminhado    clara.milagres Gestão por Processos\n",
      "10/02/2023  Mosaic Fertilizantes        Presidente/Vice Presidente Contato Encaminhado    clara.milagres Gestão por Processos\n",
      "10/02/2023  Mosaic Fertilizantes                 Diretor Comercial       Não Respondeu    clara.milagres Gestão por Processos\n",
      "10/02/2023  Mosaic Fertilizantes Diretor de Logística/Supply Chain       Não Respondeu    clara.milagres Gestão por Processos\n",
      "01/04/2024 Mosaic Fertilizantes                            Gerente             Projeto       maria.caira            Analytics\n"
     ]
    }
   ],
   "source": [
    "nome = input('Nome: ')\n",
    "\n",
    "temp = data[pd.notna(data['Empresa']) & data['Empresa'].str.contains(nome, case=False, na=False)]\n",
    "try:\n",
    "    data_mod = temp['Semana_mod'].iloc[-1]\n",
    "    data_original = temp['Semana'].iloc[-1]\n",
    "except:\n",
    "    pass\n",
    "\n",
    "if not temp.empty:\n",
    "    if any(temp['STATUS'].str.contains('projeto', case=False, na=False)):\n",
    "        print(f\"{nome} ja tem PROJETO\")\n",
    "    if any(temp['STATUS'].str.contains('lead', case=False, na=False)):\n",
    "        print(f\"{nome} tem LEAD\")\n",
    "    if data_mod > data_maxima:\n",
    "        print(f\"{nome} ja foi prospectado em {data_original}\")\n",
    "    temp = temp.drop(columns=['Semana_mod'])\n",
    "    print(f\"{nome}:\")\n",
    "    print(temp.to_string(index=False))\n",
    "else:\n",
    "    print(f\"{nome} nao encontrado\")"
   ]
  }
 ],
 "metadata": {
  "kernelspec": {
   "display_name": "Python 3",
   "language": "python",
   "name": "python3"
  },
  "language_info": {
   "codemirror_mode": {
    "name": "ipython",
    "version": 3
   },
   "file_extension": ".py",
   "mimetype": "text/x-python",
   "name": "python",
   "nbconvert_exporter": "python",
   "pygments_lexer": "ipython3",
   "version": "3.12.3"
  }
 },
 "nbformat": 4,
 "nbformat_minor": 2
}
